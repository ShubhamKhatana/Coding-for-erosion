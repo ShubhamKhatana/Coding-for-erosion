{
 "cells": [
  {
   "cell_type": "code",
   "execution_count": 1,
   "id": "53cdd789-c795-44cb-955e-8d0a788f4adf",
   "metadata": {},
   "outputs": [
    {
     "name": "stdout",
     "output_type": "stream",
     "text": [
      "[[ 0.  3.  3. ...  5.  2.  2.]\n",
      " [ 0.  0.  1. ...  6.  2.  2.]\n",
      " [ 0.  0.  0. ... 25.  2.  2.]\n",
      " ...\n",
      " [ 1. 10.  0. ...  3.  2.  2.]\n",
      " [ 1.  9.  1. ...  3.  2.  3.]\n",
      " [ 1. 25.  5. ...  3.  2.  2.]]\n"
     ]
    }
   ],
   "source": [
    "import cv2\n",
    "from skimage import feature\n",
    "\n",
    "# Load the image in grayscale\n",
    "img = cv2.imread('resized_200.jpg', 0)\n",
    "\n",
    "# Compute LBP feature vector\n",
    "radius = 3\n",
    "n_points = 8 * radius\n",
    "lbp = feature.local_binary_pattern(img, n_points, radius, method='uniform')\n",
    "\n",
    "# Print the LBP feature vector\n",
    "print(lbp)"
   ]
  },
  {
   "cell_type": "code",
   "execution_count": 4,
   "id": "9cf70b35-720f-4a10-9a70-53963bf9edeb",
   "metadata": {},
   "outputs": [
    {
     "data": {
      "text/plain": [
       "19.0"
      ]
     },
     "execution_count": 4,
     "metadata": {},
     "output_type": "execute_result"
    }
   ],
   "source": [
    "lbp_code = lbp[109,395]\n",
    "lbp_code"
   ]
  },
  {
   "cell_type": "code",
   "execution_count": 5,
   "id": "87d08494-df29-4fce-92f7-25142b9efb98",
   "metadata": {},
   "outputs": [
    {
     "data": {
      "text/plain": [
       "25.0"
      ]
     },
     "execution_count": 5,
     "metadata": {},
     "output_type": "execute_result"
    }
   ],
   "source": [
    "lbp_code = lbp[423, 215]\n",
    "lbp_code"
   ]
  },
  {
   "cell_type": "code",
   "execution_count": 6,
   "id": "6796a01f-f8ba-47f1-8b97-3ebdbf68cc6f",
   "metadata": {},
   "outputs": [
    {
     "data": {
      "text/plain": [
       "13.0"
      ]
     },
     "execution_count": 6,
     "metadata": {},
     "output_type": "execute_result"
    }
   ],
   "source": [
    "lbp_code = lbp[98, 100]\n",
    "lbp_code"
   ]
  },
  {
   "cell_type": "code",
   "execution_count": 7,
   "id": "ee8476eb-6cca-484d-b5cd-b78ed647cef7",
   "metadata": {},
   "outputs": [
    {
     "data": {
      "text/plain": [
       "22.0"
      ]
     },
     "execution_count": 7,
     "metadata": {},
     "output_type": "execute_result"
    }
   ],
   "source": [
    "lbp_code = lbp[370, 36]\n",
    "lbp_code"
   ]
  },
  {
   "cell_type": "code",
   "execution_count": 14,
   "id": "9d954daa-fd43-42d9-8435-9af67f475494",
   "metadata": {},
   "outputs": [
    {
     "data": {
      "text/plain": [
       "25.0"
      ]
     },
     "execution_count": 14,
     "metadata": {},
     "output_type": "execute_result"
    }
   ],
   "source": [
    "lbp_code = lbp[283, 499]\n",
    "lbp_code"
   ]
  }
 ],
 "metadata": {
  "kernelspec": {
   "display_name": "Python 3 (ipykernel)",
   "language": "python",
   "name": "python3"
  },
  "language_info": {
   "codemirror_mode": {
    "name": "ipython",
    "version": 3
   },
   "file_extension": ".py",
   "mimetype": "text/x-python",
   "name": "python",
   "nbconvert_exporter": "python",
   "pygments_lexer": "ipython3",
   "version": "3.9.12"
  }
 },
 "nbformat": 4,
 "nbformat_minor": 5
}
