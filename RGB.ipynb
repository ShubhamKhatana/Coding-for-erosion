{
 "cells": [
  {
   "cell_type": "code",
   "execution_count": 3,
   "id": "1d0f7a14-5805-4a51-8bf9-cb9e5eb9ecee",
   "metadata": {},
   "outputs": [
    {
     "name": "stdout",
     "output_type": "stream",
     "text": [
      "Image size: 501 x 559 pixels\n"
     ]
    }
   ],
   "source": [
    "import cv2\n",
    "import numpy as np\n",
    "\n",
    "# Read the input image in grayscale\n",
    "img = cv2.imread('resized_200.jpg', cv2.IMREAD_GRAYSCALE)\n",
    "\n",
    "\n",
    "height, width = img.shape\n",
    "print('Image size: {} x {} pixels'.format(width, height))\n",
    "\n",
    "cv2.waitKey(0)\n",
    "cv2.destroyAllWindows()"
   ]
  },
  {
   "cell_type": "code",
   "execution_count": null,
   "id": "3df3249d-70fa-40c2-9483-e23f13aeb8d3",
   "metadata": {
    "tags": []
   },
   "outputs": [
    {
     "name": "stdout",
     "output_type": "stream",
     "text": [
      "Pixel value at (219, 249): [ 87 117 142]\n"
     ]
    }
   ],
   "source": [
    "import cv2\n",
    "\n",
    "# Read the input image\n",
    "img = cv2.imread('resized_200.jpg')\n",
    "\n",
    "# Define a callback function to get the pixel value at the selected point\n",
    "def get_pixel_value(event, x, y, flags, param):\n",
    "    if event == cv2.EVENT_LBUTTONUP:\n",
    "        pixel_value = img[y, x]\n",
    "        print('Pixel value at ({}, {}): {}'.format(x, y, pixel_value))\n",
    "\n",
    "# Create a window to display the image and set the callback function\n",
    "cv2.namedWindow('image')\n",
    "cv2.setMouseCallback('image', get_pixel_value)\n",
    "\n",
    "# Display the image\n",
    "cv2.imshow('image', img)\n",
    "cv2.waitKey(0)\n",
    "cv2.destroyAllWindows()"
   ]
  },
  {
   "cell_type": "code",
   "execution_count": null,
   "id": "e0df335e-f028-4a52-8347-9c03b3579cf4",
   "metadata": {},
   "outputs": [],
   "source": []
  },
  {
   "cell_type": "code",
   "execution_count": 5,
   "id": "a50e7ae7-2d18-447a-945b-03b7aa4520f0",
   "metadata": {},
   "outputs": [
    {
     "name": "stdout",
     "output_type": "stream",
     "text": [
      "Grayscale value at pixel (249, 219): (38, 14)\n"
     ]
    }
   ],
   "source": [
    "import cv2\n",
    "\n",
    "# Load the image as grayscale\n",
    "image = cv2.imread('resized_200d.jpg', cv2.IMREAD_GRAYSCALE)\n",
    "\n",
    "# Define the pixel coordinates (y, x) with row (y) first and column (x) second.\n",
    "y = 219  # Example y-coordinate (row)\n",
    "x = 249  # Example x-coordinate (column)\n",
    "y1 = 249\n",
    "x1 = 219\n",
    "# Get the grayscale value at the specified pixel\n",
    "gray_value = image[y, x], image[y1, x1]\n",
    "\n",
    "# Print the grayscale value\n",
    "print(f\"Grayscale value at pixel ({x}, {y}): {gray_value}\")"
   ]
  },
  {
   "cell_type": "code",
   "execution_count": 2,
   "id": "dbc866ad-6436-4ad4-876d-f5a7df6cc2dc",
   "metadata": {},
   "outputs": [
    {
     "name": "stdout",
     "output_type": "stream",
     "text": [
      "Mean Grayscale Value: 120.85039938013061\n"
     ]
    }
   ],
   "source": [
    "import cv2\n",
    "\n",
    "# Load the image in grayscale\n",
    "image_path = 'resized_200.jpg'  # Replace with the path to your image\n",
    "image = cv2.imread(image_path, cv2.IMREAD_GRAYSCALE)\n",
    "\n",
    "# Calculate the mean grayscale value of the entire image\n",
    "mean_grayscale = image.mean()\n",
    "\n",
    "print(f\"Mean Grayscale Value: {mean_grayscale}\")\n"
   ]
  },
  {
   "cell_type": "markdown",
   "id": "e6b7c7f8-5924-437e-8541-919714ff6524",
   "metadata": {},
   "source": [
    "RGB TO Coordinates"
   ]
  },
  {
   "cell_type": "code",
   "execution_count": 1,
   "id": "bb34cb14-a5f6-42ad-8ee1-7e011980e8ff",
   "metadata": {},
   "outputs": [
    {
     "name": "stdout",
     "output_type": "stream",
     "text": [
      "Coordinate (x, y): (489, 280)\n",
      "Coordinate (x, y): (497, 298)\n",
      "Coordinate (x, y): (525, 291)\n",
      "Coordinate (x, y): (541, 296)\n",
      "Coordinate (x, y): (544, 293)\n",
      "Coordinate (x, y): (545, 287)\n",
      "Coordinate (x, y): (546, 333)\n",
      "Coordinate (x, y): (547, 332)\n",
      "Coordinate (x, y): (547, 333)\n",
      "Coordinate (x, y): (556, 380)\n",
      "Coordinate (x, y): (556, 381)\n",
      "Coordinate (x, y): (557, 379)\n",
      "Coordinate (x, y): (557, 382)\n"
     ]
    }
   ],
   "source": [
    "import cv2\n",
    "import numpy as np\n",
    "\n",
    "# Load the image\n",
    "image = cv2.imread('resized_200.jpg')\n",
    "\n",
    "# Define the RGB value you want to find\n",
    "target_color = (87, 100, 122)  # For example, we're looking for pure red (255, 0, 0)\n",
    "\n",
    "# Find the coordinates of pixels with the target RGB value\n",
    "coordinates = np.argwhere(np.all(image == target_color, axis=-1))\n",
    "\n",
    "# Print the coordinates\n",
    "for coordinate in coordinates:\n",
    "    x, y = coordinate\n",
    "    print(f'Coordinate (x, y): ({x}, {y})')\n",
    "\n",
    "# If you want to save the coordinates to a file, you can use a loop to write them to a text file.\n"
   ]
  }
 ],
 "metadata": {
  "kernelspec": {
   "display_name": "Python 3 (ipykernel)",
   "language": "python",
   "name": "python3"
  },
  "language_info": {
   "codemirror_mode": {
    "name": "ipython",
    "version": 3
   },
   "file_extension": ".py",
   "mimetype": "text/x-python",
   "name": "python",
   "nbconvert_exporter": "python",
   "pygments_lexer": "ipython3",
   "version": "3.9.12"
  }
 },
 "nbformat": 4,
 "nbformat_minor": 5
}
