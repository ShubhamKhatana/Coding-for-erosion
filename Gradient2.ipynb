{
 "cells": [
  {
   "cell_type": "code",
   "execution_count": 2,
   "id": "e824f24d-4007-4a57-bd1c-f4e27544739d",
   "metadata": {},
   "outputs": [
    {
     "name": "stdout",
     "output_type": "stream",
     "text": [
      "[[ 0.         18.          8.         ...  4.          4.\n",
      "   0.        ]\n",
      " [ 4.         12.16552506 12.64911064 ...  4.          4.\n",
      "   0.        ]\n",
      " [ 8.          3.16227766 17.02938637 ...  4.          4.\n",
      "   0.        ]\n",
      " ...\n",
      " [ 2.          4.47213595 33.01514804 ...  9.05538514  8.94427191\n",
      "   6.        ]\n",
      " [ 4.          5.65685425 23.19482701 ...  8.          5.09901951\n",
      "   2.        ]\n",
      " [ 0.          4.         16.         ...  8.          4.\n",
      "   0.        ]]\n"
     ]
    }
   ],
   "source": [
    "import cv2\n",
    "import numpy as np\n",
    "# Load the image\n",
    "img = cv2.imread('resized_200.jpg',0)\n",
    "\n",
    "# Calculate the gradient using the sobel operator\n",
    "dx = cv2.Sobel(img, cv2.CV_64F, 1, 0, ksize=3)\n",
    "dy = cv2.Sobel(img, cv2.CV_64F, 0, 1, ksize=3)\n",
    "\n",
    "# Calculate the magnitude and angle of the gradient\n",
    "mag, ang = cv2.cartToPolar(dx, dy, angleInDegrees=True)\n",
    "\n",
    "\n",
    "# Display the gradient magnitude of gradient\n",
    "print(mag)"
   ]
  },
  {
   "cell_type": "code",
   "execution_count": 6,
   "id": "5bf1f245-beb5-475e-a529-8a805334035b",
   "metadata": {},
   "outputs": [
    {
     "name": "stdout",
     "output_type": "stream",
     "text": [
      "11.045361017187261\n"
     ]
    }
   ],
   "source": [
    "grad_mag = cv2.magnitude(dx, dy)\n",
    "mag_value = grad_mag[329, 280]\n",
    "print(mag_value)"
   ]
  },
  {
   "cell_type": "code",
   "execution_count": 7,
   "id": "81fa392d-46ba-4590-a607-0cd6c2a6edc0",
   "metadata": {},
   "outputs": [
    {
     "name": "stdout",
     "output_type": "stream",
     "text": [
      "5.830951894845301\n"
     ]
    }
   ],
   "source": [
    "grad_mag = cv2.magnitude(dx, dy)\n",
    "mag_value = grad_mag[73, 29]\n",
    "print(mag_value)"
   ]
  },
  {
   "cell_type": "code",
   "execution_count": 8,
   "id": "9ee82fb9-ac95-462b-8fb5-29088c4b30a5",
   "metadata": {},
   "outputs": [
    {
     "name": "stdout",
     "output_type": "stream",
     "text": [
      "13.92838827718412\n"
     ]
    }
   ],
   "source": [
    "grad_mag = cv2.magnitude(dx, dy)\n",
    "mag_value = grad_mag[120, 400]\n",
    "print(mag_value)"
   ]
  },
  {
   "cell_type": "code",
   "execution_count": 9,
   "id": "18bb0d87-845b-489b-859e-842554157ba7",
   "metadata": {},
   "outputs": [
    {
     "name": "stdout",
     "output_type": "stream",
     "text": [
      "4.0\n"
     ]
    }
   ],
   "source": [
    "grad_mag = cv2.magnitude(dx, dy)\n",
    "mag_value = grad_mag[79, 147]\n",
    "print(mag_value)"
   ]
  },
  {
   "cell_type": "code",
   "execution_count": 11,
   "id": "da8bf2ad-60a8-46fa-a98c-f90ae697bf6e",
   "metadata": {},
   "outputs": [
    {
     "name": "stdout",
     "output_type": "stream",
     "text": [
      "15.297058540778355\n"
     ]
    }
   ],
   "source": [
    "grad_mag = cv2.magnitude(dx, dy)\n",
    "mag_value = grad_mag[288, 450]\n",
    "print(mag_value)"
   ]
  },
  {
   "cell_type": "code",
   "execution_count": null,
   "id": "71f42c73-fc4e-4f23-9343-38a8e578515a",
   "metadata": {},
   "outputs": [],
   "source": []
  },
  {
   "cell_type": "code",
   "execution_count": null,
   "id": "e7540851-0135-46e9-811e-991db00763fe",
   "metadata": {},
   "outputs": [],
   "source": []
  },
  {
   "cell_type": "code",
   "execution_count": null,
   "id": "e29ba192-ebf0-4cee-95a9-05316135bcb4",
   "metadata": {},
   "outputs": [],
   "source": []
  },
  {
   "cell_type": "code",
   "execution_count": null,
   "id": "1f0c45c8-aea7-4a6d-a6ba-de49b58a4144",
   "metadata": {},
   "outputs": [],
   "source": []
  }
 ],
 "metadata": {
  "kernelspec": {
   "display_name": "Python 3 (ipykernel)",
   "language": "python",
   "name": "python3"
  },
  "language_info": {
   "codemirror_mode": {
    "name": "ipython",
    "version": 3
   },
   "file_extension": ".py",
   "mimetype": "text/x-python",
   "name": "python",
   "nbconvert_exporter": "python",
   "pygments_lexer": "ipython3",
   "version": "3.9.12"
  }
 },
 "nbformat": 4,
 "nbformat_minor": 5
}
